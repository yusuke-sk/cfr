{
 "cells": [
  {
   "cell_type": "markdown",
   "id": "ef58426e",
   "metadata": {},
   "source": [
    "## ライブラリ"
   ]
  },
  {
   "cell_type": "code",
   "execution_count": 1,
   "id": "345787fa",
   "metadata": {},
   "outputs": [],
   "source": [
    "import pandas as pd \n",
    "import matplotlib.pyplot as plt"
   ]
  },
  {
   "cell_type": "markdown",
   "id": "102e678b",
   "metadata": {},
   "source": [
    "## データ読み込み"
   ]
  },
  {
   "cell_type": "code",
   "execution_count": 14,
   "id": "51cbc376",
   "metadata": {},
   "outputs": [
    {
     "name": "stdout",
     "output_type": "stream",
     "text": [
      "no parallel: 6.568\n",
      "parallel p1: 6.94\n",
      "parallel p2: 3.953\n",
      "parallel p3: 3.284\n",
      "parallel p4: 2.809\n",
      "parallel p8: 3.452\n"
     ]
    }
   ],
   "source": [
    "NUM_PLAYERS = 5\n",
    "\n",
    "df_0 = pd.read_csv(\"../output/Kuhn_poker/Parallel/DB_for_NFSP_{}_False.csv\".format(NUM_PLAYERS))\n",
    "df_1 = pd.read_csv(\"../output/Kuhn_poker/Parallel/DB_for_NFSP_{}_DataCollect_1.csv\".format(NUM_PLAYERS))\n",
    "df_2 = pd.read_csv(\"../output/Kuhn_poker/Parallel/DB_for_NFSP_{}_DataCollect_2.csv\".format(NUM_PLAYERS))\n",
    "df_3 = pd.read_csv(\"../output/Kuhn_poker/Parallel/DB_for_NFSP_{}_DataCollect_3.csv\".format(NUM_PLAYERS))\n",
    "df_4 = pd.read_csv(\"../output/Kuhn_poker/Parallel/DB_for_NFSP_{}_DataCollect_4.csv\".format(NUM_PLAYERS))\n",
    "df_8 = pd.read_csv(\"../output/Kuhn_poker/Parallel/DB_for_NFSP_{}_DataCollect_8.csv\".format(NUM_PLAYERS))\n",
    "\n",
    "\n",
    "\n",
    "no_parallel = round(df_0[\"batch_episode_time_for_5_42\"].mean()* 1000 ,3)\n",
    "parallel1 = round(df_1[\"parallel_batch_episode_time_for_5_42\"].mean() * 1000 ,3)\n",
    "parallel2 = round(df_2[\"parallel_batch_episode_time_for_5_42\"].mean()* 1000 ,3)\n",
    "parallel3 = round(df_3[\"parallel_batch_episode_time_for_5_42\"].mean()* 1000 ,3)\n",
    "parallel4 = round(df_4[\"parallel_batch_episode_time_for_5_42\"].mean()* 1000 ,3)\n",
    "parallel8 = round(df_8[\"parallel_batch_episode_time_for_5_42\"].mean()* 1000 ,3)\n",
    "\n",
    "\n",
    "print(\"no parallel:\", no_parallel)\n",
    "print(\"parallel p1:\", parallel1)\n",
    "print(\"parallel p2:\", parallel2)\n",
    "print(\"parallel p3:\", parallel3)\n",
    "print(\"parallel p4:\", parallel4)\n",
    "print(\"parallel p8:\", parallel8)\n"
   ]
  },
  {
   "cell_type": "code",
   "execution_count": 21,
   "id": "07fe88e1",
   "metadata": {},
   "outputs": [
    {
     "name": "stdout",
     "output_type": "stream",
     "text": [
      "no parallel: 4.493\n",
      "parallel p4: 2.19\n"
     ]
    }
   ],
   "source": [
    "NUM_PLAYERS = 2\n",
    "\n",
    "df_0 = pd.read_csv(\"../output/Kuhn_poker/Parallel/DB_for_NFSP_{}_False.csv\".format(NUM_PLAYERS))\n",
    "#df_2 = pd.read_csv(\"../output/Kuhn_poker/Parallel/DB_for_NFSP_{}_DataCollect_2.csv\".format(NUM_PLAYERS))\n",
    "df_4 = pd.read_csv(\"../output/Kuhn_poker/Parallel/DB_for_NFSP_{}_DataCollect_4.csv\".format(NUM_PLAYERS))\n",
    "#df_8 = pd.read_csv(\"../output/Kuhn_poker/Parallel/DB_for_NFSP_{}_DataCollect_8.csv\".format(NUM_PLAYERS))\n",
    "\n",
    "\n",
    "\n",
    "no_parallel = round(df_0[\"batch_episode_time_for_2_42\"].mean()* 1000 ,3)\n",
    "#parallel2 = round(df_2[\"parallel_batch_episode_time_for_2_42\"].mean()* 1000 ,3)\n",
    "parallel4 = round(df_4[\"parallel_batch_episode_time_for_2_42\"].mean()* 1000 ,3)\n",
    "#parallel8 = round(df_8[\"parallel_batch_episode_time_for_2_42\"].mean()* 1000 ,3)\n",
    "\n",
    "\n",
    "print(\"no parallel:\", no_parallel)\n",
    "#print(\"parallel p2:\", parallel2)\n",
    "print(\"parallel p4:\", parallel4)\n",
    "#print(\"parallel p8:\", parallel8)\n"
   ]
  },
  {
   "cell_type": "code",
   "execution_count": 24,
   "id": "6d9e5b2d",
   "metadata": {},
   "outputs": [
    {
     "name": "stdout",
     "output_type": "stream",
     "text": [
      "no parallel: 5.23\n",
      "parallel p4: 2.377\n"
     ]
    }
   ],
   "source": [
    "NUM_PLAYERS = 3\n",
    "\n",
    "df_0 = pd.read_csv(\"../output/Kuhn_poker/Parallel/DB_for_NFSP_{}_False.csv\".format(NUM_PLAYERS))\n",
    "df_4 = pd.read_csv(\"../output/Kuhn_poker/Parallel/DB_for_NFSP_{}_DataCollect_4.csv\".format(NUM_PLAYERS))\n",
    "\n",
    "\n",
    "no_parallel = round(df_0[\"batch_episode_time_for_3_42\"].mean()* 1000 ,3)\n",
    "parallel4 = round(df_4[\"parallel_batch_episode_time_for_3_42\"].mean()* 1000 ,3)\n",
    "\n",
    "print(\"no parallel:\", no_parallel)\n",
    "print(\"parallel p4:\", parallel4)"
   ]
  },
  {
   "cell_type": "code",
   "execution_count": 23,
   "id": "23db05e8",
   "metadata": {},
   "outputs": [
    {
     "name": "stdout",
     "output_type": "stream",
     "text": [
      "no parallel: 5.149\n",
      "parallel p4: 2.281\n"
     ]
    }
   ],
   "source": [
    "NUM_PLAYERS = 4\n",
    "\n",
    "df_0 = pd.read_csv(\"../output/Kuhn_poker/Parallel/DB_for_NFSP_{}_False.csv\".format(NUM_PLAYERS))\n",
    "df_4 = pd.read_csv(\"../output/Kuhn_poker/Parallel/DB_for_NFSP_{}_DataCollect_4.csv\".format(NUM_PLAYERS))\n",
    "\n",
    "\n",
    "no_parallel = round(df_0[\"batch_episode_time_for_4_42\"].mean()* 1000 ,3)\n",
    "parallel4 = round(df_4[\"parallel_batch_episode_time_for_4_42\"].mean()* 1000 ,3)\n",
    "\n",
    "print(\"no parallel:\", no_parallel)\n",
    "print(\"parallel p4:\", parallel4)"
   ]
  },
  {
   "cell_type": "code",
   "execution_count": 22,
   "id": "3b3ab1c9",
   "metadata": {},
   "outputs": [
    {
     "name": "stdout",
     "output_type": "stream",
     "text": [
      "no parallel: 6.568\n",
      "parallel p4: 2.809\n"
     ]
    }
   ],
   "source": [
    "NUM_PLAYERS = 5\n",
    "\n",
    "df_0 = pd.read_csv(\"../output/Kuhn_poker/Parallel/DB_for_NFSP_{}_False.csv\".format(NUM_PLAYERS))\n",
    "df_4 = pd.read_csv(\"../output/Kuhn_poker/Parallel/DB_for_NFSP_{}_DataCollect_4.csv\".format(NUM_PLAYERS))\n",
    "\n",
    "\n",
    "no_parallel = round(df_0[\"batch_episode_time_for_5_42\"].mean()* 1000 ,3)\n",
    "parallel4 = round(df_4[\"parallel_batch_episode_time_for_5_42\"].mean()* 1000 ,3)\n",
    "\n",
    "print(\"no parallel:\", no_parallel)\n",
    "print(\"parallel p4:\", parallel4)"
   ]
  },
  {
   "cell_type": "code",
   "execution_count": null,
   "id": "0a159668",
   "metadata": {},
   "outputs": [],
   "source": []
  }
 ],
 "metadata": {
  "kernelspec": {
   "display_name": "yskamto",
   "language": "python",
   "name": "python3"
  },
  "language_info": {
   "codemirror_mode": {
    "name": "ipython",
    "version": 3
   },
   "file_extension": ".py",
   "mimetype": "text/x-python",
   "name": "python",
   "nbconvert_exporter": "python",
   "pygments_lexer": "ipython3",
   "version": "3.8.10 | packaged by conda-forge | (default, May 11 2021, 06:27:18) \n[Clang 11.1.0 ]"
  },
  "vscode": {
   "interpreter": {
    "hash": "0a58123f7cbc156c01106435b2151dbf6b73dba624336c33456337124cae3110"
   }
  }
 },
 "nbformat": 4,
 "nbformat_minor": 5
}
