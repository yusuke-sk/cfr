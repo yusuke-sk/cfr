{
 "cells": [
  {
   "cell_type": "markdown",
   "id": "ef58426e",
   "metadata": {},
   "source": [
    "## ライブラリ"
   ]
  },
  {
   "cell_type": "code",
   "execution_count": 1,
   "id": "345787fa",
   "metadata": {},
   "outputs": [],
   "source": [
    "import pandas as pd \n",
    "import matplotlib.pyplot as plt"
   ]
  },
  {
   "cell_type": "markdown",
   "id": "102e678b",
   "metadata": {},
   "source": [
    "## データ読み込み"
   ]
  },
  {
   "cell_type": "code",
   "execution_count": 13,
   "id": "51cbc376",
   "metadata": {},
   "outputs": [
    {
     "name": "stdout",
     "output_type": "stream",
     "text": [
      "no parallel: 6.568\n",
      "parallel p1: 6.94\n",
      "parallel p2: 3.953\n",
      "parallel p3: 3.284\n",
      "parallel p4: 2.809\n"
     ]
    }
   ],
   "source": [
    "NUM_PLAYERS = 5\n",
    "\n",
    "df_0 = pd.read_csv(\"../output/Kuhn_poker/Parallel/DB_for_NFSP_{}_False.csv\".format(NUM_PLAYERS))\n",
    "df_1 = pd.read_csv(\"../output/Kuhn_poker/Parallel/DB_for_NFSP_{}_DataCollect_1.csv\".format(NUM_PLAYERS))\n",
    "df_2 = pd.read_csv(\"../output/Kuhn_poker/Parallel/DB_for_NFSP_{}_DataCollect_2.csv\".format(NUM_PLAYERS))\n",
    "df_3 = pd.read_csv(\"../output/Kuhn_poker/Parallel/DB_for_NFSP_{}_DataCollect_3.csv\".format(NUM_PLAYERS))\n",
    "df_4 = pd.read_csv(\"../output/Kuhn_poker/Parallel/DB_for_NFSP_{}_DataCollect_4.csv\".format(NUM_PLAYERS))\n",
    "\n",
    "\n",
    "\n",
    "no_parallel = round(df_0[\"batch_episode_time_for_5_42\"].mean()* 1000 ,3)\n",
    "parallel1 = round(df_1[\"parallel_batch_episode_time_for_5_42\"].mean() * 1000 ,3)\n",
    "parallel2 = round(df_2[\"parallel_batch_episode_time_for_5_42\"].mean()* 1000 ,3)\n",
    "parallel3 = round(df_3[\"parallel_batch_episode_time_for_5_42\"].mean()* 1000 ,3)\n",
    "parallel4 = round(df_4[\"parallel_batch_episode_time_for_5_42\"].mean()* 1000 ,3)\n",
    "\n",
    "\n",
    "print(\"no parallel:\", no_parallel)\n",
    "print(\"parallel p1:\", parallel1)\n",
    "print(\"parallel p2:\", parallel2)\n",
    "print(\"parallel p3:\", parallel3)\n",
    "print(\"parallel p4:\", parallel4)\n"
   ]
  },
  {
   "cell_type": "code",
   "execution_count": 2,
   "id": "07fe88e1",
   "metadata": {},
   "outputs": [
    {
     "name": "stdout",
     "output_type": "stream",
     "text": [
      "parallel: 2.997\n",
      "no parallel: 4.493\n"
     ]
    }
   ],
   "source": [
    "NUM_PLAYERS = 2\n",
    "\n",
    "df_1 = pd.read_csv(\"../output/Kuhn_poker/Parallel/DB_for_NFSP_{}_DataCollect.csv\".format(NUM_PLAYERS))\n",
    "df_2 = pd.read_csv(\"../output/Kuhn_poker/Parallel/DB_for_NFSP_{}_False.csv\".format(NUM_PLAYERS))\n",
    "\n",
    "df = pd.concat([df_1, df_2], axis=1, join='outer')\n",
    "\n",
    "df = df.loc[:,~df.columns.duplicated()]\n",
    "df = df.set_index('iteration')\n",
    "pd.set_option('display.max_rows', None)\n",
    "\n",
    "parallel,no_parallel = df.mean()\n",
    "parallel = round(parallel * 1000 ,3)\n",
    "no_parallel = round(no_parallel * 1000 ,3)\n",
    "\n",
    "print(\"parallel:\", parallel)\n",
    "print(\"no parallel:\", no_parallel)"
   ]
  },
  {
   "cell_type": "code",
   "execution_count": 50,
   "id": "6d9e5b2d",
   "metadata": {},
   "outputs": [
    {
     "name": "stdout",
     "output_type": "stream",
     "text": [
      "parallel: 3.386\n",
      "no parallel: 5.23\n"
     ]
    }
   ],
   "source": [
    "NUM_PLAYERS = 3\n",
    "\n",
    "df_1 = pd.read_csv(\"../output/Kuhn_poker/Parallel/DB_for_NFSP_{}_DataCollect.csv\".format(NUM_PLAYERS))\n",
    "df_2 = pd.read_csv(\"../output/Kuhn_poker/Parallel/DB_for_NFSP_{}_False.csv\".format(NUM_PLAYERS))\n",
    "\n",
    "df = pd.concat([df_1, df_2], axis=1, join='outer')\n",
    "\n",
    "df = df.loc[:,~df.columns.duplicated()]\n",
    "df = df.set_index('iteration')\n",
    "pd.set_option('display.max_rows', None)\n",
    "\n",
    "parallel,no_parallel = df.mean()\n",
    "parallel = round(parallel * 1000 ,3)\n",
    "no_parallel = round(no_parallel * 1000 ,3)\n",
    "\n",
    "print(\"parallel:\", parallel)\n",
    "print(\"no parallel:\", no_parallel)\n"
   ]
  },
  {
   "cell_type": "code",
   "execution_count": 51,
   "id": "23db05e8",
   "metadata": {},
   "outputs": [
    {
     "name": "stdout",
     "output_type": "stream",
     "text": [
      "parallel: 3.12\n",
      "no parallel: 5.149\n"
     ]
    }
   ],
   "source": [
    "NUM_PLAYERS = 4\n",
    "\n",
    "df_1 = pd.read_csv(\"../output/Kuhn_poker/Parallel/DB_for_NFSP_{}_DataCollect.csv\".format(NUM_PLAYERS))\n",
    "df_2 = pd.read_csv(\"../output/Kuhn_poker/Parallel/DB_for_NFSP_{}_False.csv\".format(NUM_PLAYERS))\n",
    "\n",
    "df = pd.concat([df_1, df_2], axis=1, join='outer')\n",
    "\n",
    "df = df.loc[:,~df.columns.duplicated()]\n",
    "df = df.set_index('iteration')\n",
    "#pd.set_option('display.max_rows', None)\n",
    "\n",
    "parallel,no_parallel = df.mean()\n",
    "parallel = round(parallel * 1000 ,3)\n",
    "no_parallel = round(no_parallel * 1000 ,3)\n",
    "\n",
    "print(\"parallel:\", parallel)\n",
    "print(\"no parallel:\", no_parallel)\n"
   ]
  },
  {
   "cell_type": "code",
   "execution_count": 52,
   "id": "3b3ab1c9",
   "metadata": {},
   "outputs": [
    {
     "name": "stdout",
     "output_type": "stream",
     "text": [
      "parallel: 3.963\n",
      "no parallel: 6.568\n"
     ]
    }
   ],
   "source": [
    "NUM_PLAYERS = 5\n",
    "\n",
    "df_1 = pd.read_csv(\"../output/Kuhn_poker/Parallel/DB_for_NFSP_{}_DataCollect.csv\".format(NUM_PLAYERS))\n",
    "df_2 = pd.read_csv(\"../output/Kuhn_poker/Parallel/DB_for_NFSP_{}_False.csv\".format(NUM_PLAYERS))\n",
    "\n",
    "df = pd.concat([df_1, df_2], axis=1, join='outer')\n",
    "\n",
    "df = df.loc[:,~df.columns.duplicated()]\n",
    "df = df.set_index('iteration')\n",
    "#pd.set_option('display.max_rows', None)\n",
    "\n",
    "parallel,no_parallel = df.mean()\n",
    "parallel = round(parallel * 1000 ,3)\n",
    "no_parallel = round(no_parallel * 1000 ,3)\n",
    "\n",
    "print(\"parallel:\", parallel)\n",
    "print(\"no parallel:\", no_parallel)"
   ]
  },
  {
   "cell_type": "code",
   "execution_count": null,
   "id": "0a159668",
   "metadata": {},
   "outputs": [],
   "source": []
  }
 ],
 "metadata": {
  "kernelspec": {
   "display_name": "yskamto",
   "language": "python",
   "name": "python3"
  },
  "language_info": {
   "codemirror_mode": {
    "name": "ipython",
    "version": 3
   },
   "file_extension": ".py",
   "mimetype": "text/x-python",
   "name": "python",
   "nbconvert_exporter": "python",
   "pygments_lexer": "ipython3",
   "version": "3.8.10"
  },
  "vscode": {
   "interpreter": {
    "hash": "0a58123f7cbc156c01106435b2151dbf6b73dba624336c33456337124cae3110"
   }
  }
 },
 "nbformat": 4,
 "nbformat_minor": 5
}
