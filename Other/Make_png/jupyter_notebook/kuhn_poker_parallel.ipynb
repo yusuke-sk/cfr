{
 "cells": [
  {
   "cell_type": "markdown",
   "id": "ef58426e",
   "metadata": {},
   "source": [
    "## ライブラリ"
   ]
  },
  {
   "cell_type": "code",
   "execution_count": 2,
   "id": "345787fa",
   "metadata": {},
   "outputs": [],
   "source": [
    "import pandas as pd \n",
    "import matplotlib.pyplot as plt"
   ]
  },
  {
   "cell_type": "markdown",
   "id": "102e678b",
   "metadata": {},
   "source": [
    "## データ読み込み"
   ]
  },
  {
   "cell_type": "code",
   "execution_count": 5,
   "id": "07fe88e1",
   "metadata": {},
   "outputs": [
    {
     "name": "stdout",
     "output_type": "stream",
     "text": [
      "           parallel_batch_episode_time_for_2_42  batch_episode_time_for_2_42\n",
      "iteration                                                                   \n",
      "40                                     1.227720                     0.002259\n",
      "80                                     1.099044                     0.001616\n",
      "120                                    1.083186                     0.001512\n",
      "160                                    1.130354                     0.001434\n",
      "200                                    1.079852                     0.001594\n",
      "240                                    1.201600                     0.006715\n",
      "280                                    1.106214                     0.001690\n",
      "320                                    1.167416                     0.001524\n",
      "360                                    1.122436                     0.001750\n",
      "400                                    1.111835                     0.001557\n",
      "440                                    1.069566                     0.001445\n",
      "480                                    1.083229                     0.005506\n",
      "520                                    1.265327                     0.001515\n",
      "560                                    1.183493                     0.001438\n",
      "600                                    1.498526                     0.001485\n",
      "640                                    1.189923                     0.001728\n",
      "680                                    1.182641                     0.007128\n",
      "720                                    1.208625                     0.001451\n",
      "760                                    1.145015                     0.001888\n",
      "800                                    1.090982                     0.001539\n",
      "840                                    1.111750                     0.001468\n",
      "880                                    1.102487                     0.001476\n",
      "920                                    1.115870                     0.001596\n",
      "960                                    1.252150                     0.001468\n",
      "1000                                   1.210709                     0.001408\n",
      "1040                                   1.871098                     0.001845\n",
      "1080                                   1.846103                     0.001454\n",
      "1120                                   1.848333                     0.001580\n",
      "1160                                   1.835701                     0.001578\n",
      "1200                                   1.858436                     0.001537\n",
      "1240                                   1.993099                     0.001441\n",
      "1280                                   2.015660                     0.001379\n",
      "1320                                   1.948929                     0.001450\n",
      "1360                                   1.915578                     0.001807\n",
      "1400                                   2.050940                     0.001531\n",
      "1440                                   2.013448                     0.001550\n",
      "1480                                   1.860572                     0.001778\n",
      "1520                                   1.834360                     0.001424\n",
      "1560                                   1.882524                     0.001566\n",
      "1600                                   1.831413                     0.001562\n",
      "1640                                   1.848511                     0.001528\n",
      "1680                                   1.849941                     0.001713\n",
      "1720                                   1.831793                     0.001450\n",
      "1760                                   1.856900                     0.001733\n",
      "1800                                   1.851105                     0.001458\n",
      "1840                                   1.888558                     0.001927\n",
      "1880                                   1.868675                     0.001425\n",
      "1920                                   1.840060                     0.001558\n",
      "1960                                   1.843579                     0.001579\n",
      "2000                                   1.861239                     0.001463\n",
      "2040                                   1.877760                     0.001419\n",
      "2080                                   1.880762                     0.001677\n",
      "2120                                   1.862984                     0.001508\n",
      "2160                                   1.878455                     0.001494\n",
      "2200                                   2.050054                     0.001565\n",
      "2240                                   2.000892                     0.001526\n",
      "2280                                   1.921875                     0.001579\n",
      "2320                                   1.849175                     0.001605\n",
      "2360                                   1.927206                     0.001460\n",
      "2400                                   1.921284                     0.001534\n",
      "2440                                   1.891603                     0.001617\n",
      "2480                                   1.831560                     0.001925\n",
      "2520                                   1.883204                     0.001672\n",
      "2560                                   1.832351                     0.001538\n",
      "2600                                   1.830287                     0.001527\n",
      "2640                                   1.840060                     0.001774\n",
      "2680                                   1.834171                     0.001631\n",
      "2720                                   1.840132                     0.001476\n",
      "2760                                   1.839169                     0.001736\n",
      "2800                                   1.839251                     0.001612\n",
      "2840                                   1.865830                     0.001533\n",
      "2880                                   1.881410                     0.001536\n",
      "2920                                   2.000524                     0.001535\n",
      "2960                                   1.881686                     0.001700\n",
      "3000                                   1.914388                     0.001508\n",
      "3040                                   1.877883                     0.001925\n",
      "3080                                   1.868047                     0.001477\n",
      "3120                                   1.872469                     0.001421\n",
      "3160                                   1.863682                     0.001487\n",
      "3200                                   1.962606                     0.001726\n",
      "3240                                   1.851202                     0.001699\n",
      "3280                                   1.905916                     0.002042\n",
      "3320                                   1.863257                     0.001544\n",
      "3360                                   2.204529                     0.001800\n",
      "3400                                   2.194641                     0.001440\n",
      "3440                                   2.011355                     0.001612\n",
      "3480                                   1.958184                     0.001574\n",
      "3520                                   1.858903                     0.001652\n",
      "3560                                   1.823138                     0.001589\n",
      "3600                                   1.828288                     0.001384\n",
      "3640                                   1.808785                     0.001613\n",
      "3680                                   1.836471                     0.001453\n",
      "3720                                   1.811390                     0.001624\n",
      "3760                                   1.824112                     0.001467\n",
      "3800                                   1.840158                     0.001533\n",
      "3840                                   1.840702                     0.001525\n",
      "3880                                   1.819184                     0.001589\n",
      "3920                                   1.829425                     0.001434\n",
      "3960                                   1.821327                     0.001643\n",
      "4000                                   1.814246                     0.001439\n"
     ]
    }
   ],
   "source": [
    "NUM_PLAYERS = 2\n",
    "\n",
    "df_1 = pd.read_csv(\"../output/Kuhn_poker/Parallel/DB_for_NFSP_{}_DataCollect.csv\".format(NUM_PLAYERS))\n",
    "df_2 = pd.read_csv(\"../output/Kuhn_poker/Parallel/DB_for_NFSP_{}_False.csv\".format(NUM_PLAYERS))\n",
    "\n",
    "df = pd.concat([df_1, df_2], axis=1, join='outer')\n",
    "\n",
    "df = df.loc[:,~df.columns.duplicated()]\n",
    "df = df.set_index('iteration')\n",
    "pd.set_option('display.max_rows', None)\n",
    "\n",
    "print(df)\n",
    "#df.mean()"
   ]
  },
  {
   "cell_type": "code",
   "execution_count": 20,
   "id": "6d9e5b2d",
   "metadata": {},
   "outputs": [
    {
     "data": {
      "text/plain": [
       "parallel_batch_episode_time_for_3_42    1.889429\n",
       "batch_episode_time_for_3_42             0.001612\n",
       "dtype: float64"
      ]
     },
     "execution_count": 20,
     "metadata": {},
     "output_type": "execute_result"
    }
   ],
   "source": [
    "NUM_PLAYERS = 3\n",
    "\n",
    "df_1 = pd.read_csv(\"../output/Kuhn_poker/Parallel/DB_for_NFSP_{}_DataCollect.csv\".format(NUM_PLAYERS))\n",
    "df_2 = pd.read_csv(\"../output/Kuhn_poker/Parallel/DB_for_NFSP_{}_False.csv\".format(NUM_PLAYERS))\n",
    "\n",
    "df = pd.concat([df_1, df_2], axis=1, join='outer')\n",
    "\n",
    "df = df.loc[:,~df.columns.duplicated()]\n",
    "df = df.set_index('iteration')\n",
    "#pd.set_option('display.max_rows', None)\n",
    "\n",
    "df.mean()"
   ]
  },
  {
   "cell_type": "code",
   "execution_count": 21,
   "id": "23db05e8",
   "metadata": {},
   "outputs": [
    {
     "data": {
      "text/plain": [
       "parallel_batch_episode_time_for_4_42    1.984719\n",
       "batch_episode_time_for_4_42             0.001633\n",
       "dtype: float64"
      ]
     },
     "execution_count": 21,
     "metadata": {},
     "output_type": "execute_result"
    }
   ],
   "source": [
    "NUM_PLAYERS = 4\n",
    "\n",
    "df_1 = pd.read_csv(\"../output/Kuhn_poker/Parallel/DB_for_NFSP_{}_DataCollect.csv\".format(NUM_PLAYERS))\n",
    "df_2 = pd.read_csv(\"../output/Kuhn_poker/Parallel/DB_for_NFSP_{}_False.csv\".format(NUM_PLAYERS))\n",
    "\n",
    "df = pd.concat([df_1, df_2], axis=1, join='outer')\n",
    "\n",
    "df = df.loc[:,~df.columns.duplicated()]\n",
    "df = df.set_index('iteration')\n",
    "#pd.set_option('display.max_rows', None)\n",
    "\n",
    "df.mean()"
   ]
  },
  {
   "cell_type": "code",
   "execution_count": 22,
   "id": "3b3ab1c9",
   "metadata": {},
   "outputs": [
    {
     "data": {
      "text/plain": [
       "parallel_batch_episode_time_for_5_42    2.020955\n",
       "batch_episode_time_for_5_42             0.001873\n",
       "dtype: float64"
      ]
     },
     "execution_count": 22,
     "metadata": {},
     "output_type": "execute_result"
    }
   ],
   "source": [
    "NUM_PLAYERS = 5\n",
    "\n",
    "df_1 = pd.read_csv(\"../output/Kuhn_poker/Parallel/DB_for_NFSP_{}_DataCollect.csv\".format(NUM_PLAYERS))\n",
    "df_2 = pd.read_csv(\"../output/Kuhn_poker/Parallel/DB_for_NFSP_{}_False.csv\".format(NUM_PLAYERS))\n",
    "\n",
    "df = pd.concat([df_1, df_2], axis=1, join='outer')\n",
    "\n",
    "df = df.loc[:,~df.columns.duplicated()]\n",
    "df = df.set_index('iteration')\n",
    "#pd.set_option('display.max_rows', None)\n",
    "\n",
    "df.mean()"
   ]
  },
  {
   "cell_type": "code",
   "execution_count": null,
   "id": "d9049e32",
   "metadata": {},
   "outputs": [],
   "source": []
  }
 ],
 "metadata": {
  "kernelspec": {
   "display_name": "yskamto",
   "language": "python",
   "name": "yskamto"
  },
  "language_info": {
   "codemirror_mode": {
    "name": "ipython",
    "version": 3
   },
   "file_extension": ".py",
   "mimetype": "text/x-python",
   "name": "python",
   "nbconvert_exporter": "python",
   "pygments_lexer": "ipython3",
   "version": "3.8.10"
  },
  "vscode": {
   "interpreter": {
    "hash": "0a58123f7cbc156c01106435b2151dbf6b73dba624336c33456337124cae3110"
   }
  }
 },
 "nbformat": 4,
 "nbformat_minor": 5
}
