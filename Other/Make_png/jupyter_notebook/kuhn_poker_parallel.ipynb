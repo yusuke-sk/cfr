{
 "cells": [
  {
   "cell_type": "markdown",
   "id": "ef58426e",
   "metadata": {},
   "source": [
    "## ライブラリ"
   ]
  },
  {
   "cell_type": "code",
   "execution_count": 6,
   "id": "345787fa",
   "metadata": {},
   "outputs": [],
   "source": [
    "import pandas as pd \n",
    "import matplotlib.pyplot as plt"
   ]
  },
  {
   "cell_type": "markdown",
   "id": "102e678b",
   "metadata": {},
   "source": [
    "## データ読み込み"
   ]
  },
  {
   "cell_type": "code",
   "execution_count": 10,
   "id": "07fe88e1",
   "metadata": {},
   "outputs": [
    {
     "data": {
      "text/plain": [
       "parallel_batch_episode_time_for_2_42    1.577157\n",
       "batch_episode_time_for_2_42             0.001729\n",
       "dtype: float64"
      ]
     },
     "execution_count": 10,
     "metadata": {},
     "output_type": "execute_result"
    }
   ],
   "source": [
    "NUM_PLAYERS = 2\n",
    "\n",
    "df_1 = pd.read_csv(\"../output/Kuhn_poker/Parallel/DB_for_NFSP_{}_DataCollect.csv\".format(NUM_PLAYERS))\n",
    "df_2 = pd.read_csv(\"../output/Kuhn_poker/Parallel/DB_for_NFSP_{}_False.csv\".format(NUM_PLAYERS))\n",
    "\n",
    "df = pd.concat([df_1, df_2], axis=1, join='outer')\n",
    "\n",
    "df = df.loc[:,~df.columns.duplicated()]\n",
    "df = df.set_index('iteration')\n",
    "pd.set_option('display.max_rows', None)\n",
    "\n",
    "#print(df)\n",
    "df.mean()"
   ]
  },
  {
   "cell_type": "code",
   "execution_count": 20,
   "id": "6d9e5b2d",
   "metadata": {},
   "outputs": [
    {
     "data": {
      "text/plain": [
       "parallel_batch_episode_time_for_3_42    1.889429\n",
       "batch_episode_time_for_3_42             0.001612\n",
       "dtype: float64"
      ]
     },
     "execution_count": 20,
     "metadata": {},
     "output_type": "execute_result"
    }
   ],
   "source": [
    "NUM_PLAYERS = 3\n",
    "\n",
    "df_1 = pd.read_csv(\"../output/Kuhn_poker/Parallel/DB_for_NFSP_{}_DataCollect.csv\".format(NUM_PLAYERS))\n",
    "df_2 = pd.read_csv(\"../output/Kuhn_poker/Parallel/DB_for_NFSP_{}_False.csv\".format(NUM_PLAYERS))\n",
    "\n",
    "df = pd.concat([df_1, df_2], axis=1, join='outer')\n",
    "\n",
    "df = df.loc[:,~df.columns.duplicated()]\n",
    "df = df.set_index('iteration')\n",
    "#pd.set_option('display.max_rows', None)\n",
    "\n",
    "df.mean()"
   ]
  },
  {
   "cell_type": "code",
   "execution_count": 21,
   "id": "23db05e8",
   "metadata": {},
   "outputs": [
    {
     "data": {
      "text/plain": [
       "parallel_batch_episode_time_for_4_42    1.984719\n",
       "batch_episode_time_for_4_42             0.001633\n",
       "dtype: float64"
      ]
     },
     "execution_count": 21,
     "metadata": {},
     "output_type": "execute_result"
    }
   ],
   "source": [
    "NUM_PLAYERS = 4\n",
    "\n",
    "df_1 = pd.read_csv(\"../output/Kuhn_poker/Parallel/DB_for_NFSP_{}_DataCollect.csv\".format(NUM_PLAYERS))\n",
    "df_2 = pd.read_csv(\"../output/Kuhn_poker/Parallel/DB_for_NFSP_{}_False.csv\".format(NUM_PLAYERS))\n",
    "\n",
    "df = pd.concat([df_1, df_2], axis=1, join='outer')\n",
    "\n",
    "df = df.loc[:,~df.columns.duplicated()]\n",
    "df = df.set_index('iteration')\n",
    "#pd.set_option('display.max_rows', None)\n",
    "\n",
    "df.mean()"
   ]
  },
  {
   "cell_type": "code",
   "execution_count": 22,
   "id": "3b3ab1c9",
   "metadata": {},
   "outputs": [
    {
     "data": {
      "text/plain": [
       "parallel_batch_episode_time_for_5_42    2.020955\n",
       "batch_episode_time_for_5_42             0.001873\n",
       "dtype: float64"
      ]
     },
     "execution_count": 22,
     "metadata": {},
     "output_type": "execute_result"
    }
   ],
   "source": [
    "NUM_PLAYERS = 5\n",
    "\n",
    "df_1 = pd.read_csv(\"../output/Kuhn_poker/Parallel/DB_for_NFSP_{}_DataCollect.csv\".format(NUM_PLAYERS))\n",
    "df_2 = pd.read_csv(\"../output/Kuhn_poker/Parallel/DB_for_NFSP_{}_False.csv\".format(NUM_PLAYERS))\n",
    "\n",
    "df = pd.concat([df_1, df_2], axis=1, join='outer')\n",
    "\n",
    "df = df.loc[:,~df.columns.duplicated()]\n",
    "df = df.set_index('iteration')\n",
    "#pd.set_option('display.max_rows', None)\n",
    "\n",
    "df.mean()"
   ]
  },
  {
   "cell_type": "code",
   "execution_count": null,
   "id": "d9049e32",
   "metadata": {},
   "outputs": [],
   "source": []
  }
 ],
 "metadata": {
  "kernelspec": {
   "display_name": "yskamto",
   "language": "python",
   "name": "python3"
  },
  "language_info": {
   "codemirror_mode": {
    "name": "ipython",
    "version": 3
   },
   "file_extension": ".py",
   "mimetype": "text/x-python",
   "name": "python",
   "nbconvert_exporter": "python",
   "pygments_lexer": "ipython3",
   "version": "3.8.10"
  },
  "vscode": {
   "interpreter": {
    "hash": "0a58123f7cbc156c01106435b2151dbf6b73dba624336c33456337124cae3110"
   }
  }
 },
 "nbformat": 4,
 "nbformat_minor": 5
}
