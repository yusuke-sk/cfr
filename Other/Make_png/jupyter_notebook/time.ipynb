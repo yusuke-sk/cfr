{
 "cells": [
  {
   "cell_type": "markdown",
   "id": "8d8f043a",
   "metadata": {},
   "source": []
  },
  {
   "cell_type": "markdown",
   "id": "ef58426e",
   "metadata": {},
   "source": [
    "## ライブラリ"
   ]
  },
  {
   "cell_type": "code",
   "execution_count": 1,
   "id": "345787fa",
   "metadata": {},
   "outputs": [],
   "source": [
    "import pandas as pd \n",
    "import matplotlib.pyplot as plt\n",
    "import numpy as np"
   ]
  },
  {
   "cell_type": "markdown",
   "id": "102e678b",
   "metadata": {},
   "source": [
    "## データ読み込み"
   ]
  },
  {
   "cell_type": "code",
   "execution_count": 2,
   "id": "bd716b5f",
   "metadata": {},
   "outputs": [],
   "source": [
    "NUM_PLAYERS = 2\n"
   ]
  },
  {
   "cell_type": "code",
   "execution_count": 17,
   "id": "60105a0a",
   "metadata": {},
   "outputs": [
    {
     "name": "stdout",
     "output_type": "stream",
     "text": [
      "time_2players_NFSP_dqn_42.txt\n",
      "秒: 0.2793581485748291\n",
      "分: 0.004655969142913818\n",
      "\n"
     ]
    }
   ],
   "source": [
    "path = \"../output/Kuhn_poker/Time/\"\n",
    "\n",
    "txt1 = \"time_2players_NFSP_dqn_42.txt\"\n",
    "\n",
    "with open(path + txt1) as f:\n",
    "  print(txt1)\n",
    "  s = float(f.read())\n",
    "  print(\"秒:\", s)\n",
    "  print(\"分:\", s/60)\n",
    "  print(\"\")"
   ]
  },
  {
   "cell_type": "code",
   "execution_count": null,
   "id": "4d4ed23c",
   "metadata": {},
   "outputs": [],
   "source": []
  }
 ],
 "metadata": {
  "kernelspec": {
   "display_name": "Python 3.8.10 ('yskamto')",
   "language": "python",
   "name": "python3"
  },
  "language_info": {
   "codemirror_mode": {
    "name": "ipython",
    "version": 3
   },
   "file_extension": ".py",
   "mimetype": "text/x-python",
   "name": "python",
   "nbconvert_exporter": "python",
   "pygments_lexer": "ipython3",
   "version": "3.8.10"
  },
  "vscode": {
   "interpreter": {
    "hash": "0a58123f7cbc156c01106435b2151dbf6b73dba624336c33456337124cae3110"
   }
  }
 },
 "nbformat": 4,
 "nbformat_minor": 5
}
