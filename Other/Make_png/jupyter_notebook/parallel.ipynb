{
 "cells": [
  {
   "cell_type": "markdown",
   "id": "ef58426e",
   "metadata": {},
   "source": [
    "## ライブラリ"
   ]
  },
  {
   "cell_type": "code",
   "execution_count": 2,
   "id": "345787fa",
   "metadata": {},
   "outputs": [],
   "source": [
    "import pandas as pd \n",
    "import matplotlib.pyplot as plt"
   ]
  },
  {
   "cell_type": "markdown",
   "id": "102e678b",
   "metadata": {},
   "source": [
    "## データ読み込み"
   ]
  },
  {
   "cell_type": "code",
   "execution_count": 3,
   "id": "07fe88e1",
   "metadata": {},
   "outputs": [
    {
     "name": "stdout",
     "output_type": "stream",
     "text": [
      "no parallel: 4.737\n",
      "parallel p4: 2.226\n"
     ]
    }
   ],
   "source": [
    "NUM_PLAYERS = 2\n",
    "RANDOM_SEED = [1, 10, 100]\n",
    "\n",
    "\n",
    "df_a = pd.read_csv(\"../output/Kuhn_poker/Parallel/DB_for_{}_NFSP_{}_episode.csv\".format(RANDOM_SEED[0], NUM_PLAYERS))\n",
    "df_b = pd.read_csv(\"../output/Kuhn_poker/Parallel/DB_for_{}_NFSP_{}_episode.csv\".format(RANDOM_SEED[1], NUM_PLAYERS))\n",
    "df_c = pd.read_csv(\"../output/Kuhn_poker/Parallel/DB_for_{}_NFSP_{}_episode.csv\".format(RANDOM_SEED[2], NUM_PLAYERS))\n",
    "df_0 = df_a.merge(df_b).merge(df_c)\n",
    "df_0 = df_0.set_index(\"iteration\")\n",
    "df_0[\"ex_mean\"] = df_0.mean(axis=1)\n",
    "\n",
    "\n",
    "df_d = pd.read_csv(\"../output/Kuhn_poker/Parallel/DB_for_{}_NFSP_{}_DataCollect.csv\".format(RANDOM_SEED[0], NUM_PLAYERS))\n",
    "df_e = pd.read_csv(\"../output/Kuhn_poker/Parallel/DB_for_{}_NFSP_{}_DataCollect.csv\".format(RANDOM_SEED[1], NUM_PLAYERS))\n",
    "df_f = pd.read_csv(\"../output/Kuhn_poker/Parallel/DB_for_{}_NFSP_{}_DataCollect.csv\".format(RANDOM_SEED[2], NUM_PLAYERS))\n",
    "df_4 = df_d.merge(df_e).merge(df_f)\n",
    "df_4 = df_4.set_index(\"iteration\")\n",
    "df_4[\"ex_mean\"] = df_4.mean(axis=1)\n",
    "\n",
    "\n",
    "no_parallel = round(df_0[\"ex_mean\"].mean()* 1000 ,3)\n",
    "parallel4 = round(df_4[\"ex_mean\"].mean()* 1000 ,3)\n",
    "\n",
    "\n",
    "print(\"no parallel:\", no_parallel)\n",
    "print(\"parallel p4:\", parallel4)\n"
   ]
  },
  {
   "cell_type": "code",
   "execution_count": 4,
   "id": "6d9e5b2d",
   "metadata": {},
   "outputs": [
    {
     "name": "stdout",
     "output_type": "stream",
     "text": [
      "no parallel: 5.147\n",
      "parallel p4: 2.323\n"
     ]
    }
   ],
   "source": [
    "NUM_PLAYERS = 3\n",
    "RANDOM_SEED = [1, 10, 100]\n",
    "\n",
    "\n",
    "df_a = pd.read_csv(\"../output/Kuhn_poker/Parallel/DB_for_{}_NFSP_{}_episode.csv\".format(RANDOM_SEED[0], NUM_PLAYERS))\n",
    "df_b = pd.read_csv(\"../output/Kuhn_poker/Parallel/DB_for_{}_NFSP_{}_episode.csv\".format(RANDOM_SEED[1], NUM_PLAYERS))\n",
    "df_c = pd.read_csv(\"../output/Kuhn_poker/Parallel/DB_for_{}_NFSP_{}_episode.csv\".format(RANDOM_SEED[2], NUM_PLAYERS))\n",
    "df_0 = df_a.merge(df_b).merge(df_c)\n",
    "df_0 = df_0.set_index(\"iteration\")\n",
    "df_0[\"ex_mean\"] = df_0.mean(axis=1)\n",
    "\n",
    "\n",
    "df_d = pd.read_csv(\"../output/Kuhn_poker/Parallel/DB_for_{}_NFSP_{}_DataCollect.csv\".format(RANDOM_SEED[0], NUM_PLAYERS))\n",
    "df_e = pd.read_csv(\"../output/Kuhn_poker/Parallel/DB_for_{}_NFSP_{}_DataCollect.csv\".format(RANDOM_SEED[1], NUM_PLAYERS))\n",
    "df_f = pd.read_csv(\"../output/Kuhn_poker/Parallel/DB_for_{}_NFSP_{}_DataCollect.csv\".format(RANDOM_SEED[2], NUM_PLAYERS))\n",
    "df_4 = df_d.merge(df_e).merge(df_f)\n",
    "df_4 = df_4.set_index(\"iteration\")\n",
    "df_4[\"ex_mean\"] = df_4.mean(axis=1)\n",
    "\n",
    "\n",
    "no_parallel = round(df_0[\"ex_mean\"].mean()* 1000 ,3)\n",
    "parallel4 = round(df_4[\"ex_mean\"].mean()* 1000 ,3)\n",
    "\n",
    "\n",
    "print(\"no parallel:\", no_parallel)\n",
    "print(\"parallel p4:\", parallel4)\n"
   ]
  },
  {
   "cell_type": "code",
   "execution_count": 5,
   "id": "23db05e8",
   "metadata": {},
   "outputs": [
    {
     "name": "stdout",
     "output_type": "stream",
     "text": [
      "no parallel: 5.351\n",
      "parallel p4: 2.226\n"
     ]
    }
   ],
   "source": [
    "NUM_PLAYERS = 4\n",
    "RANDOM_SEED = [1, 10, 100]\n",
    "\n",
    "\n",
    "df_a = pd.read_csv(\"../output/Kuhn_poker/Parallel/DB_for_{}_NFSP_{}_episode.csv\".format(RANDOM_SEED[0], NUM_PLAYERS))\n",
    "df_b = pd.read_csv(\"../output/Kuhn_poker/Parallel/DB_for_{}_NFSP_{}_episode.csv\".format(RANDOM_SEED[1], NUM_PLAYERS))\n",
    "df_c = pd.read_csv(\"../output/Kuhn_poker/Parallel/DB_for_{}_NFSP_{}_episode.csv\".format(RANDOM_SEED[2], NUM_PLAYERS))\n",
    "df_0 = df_a.merge(df_b).merge(df_c)\n",
    "df_0 = df_0.set_index(\"iteration\")\n",
    "df_0[\"ex_mean\"] = df_0.mean(axis=1)\n",
    "\n",
    "\n",
    "df_d = pd.read_csv(\"../output/Kuhn_poker/Parallel/DB_for_{}_NFSP_{}_DataCollect.csv\".format(RANDOM_SEED[0], NUM_PLAYERS))\n",
    "df_e = pd.read_csv(\"../output/Kuhn_poker/Parallel/DB_for_{}_NFSP_{}_DataCollect.csv\".format(RANDOM_SEED[1], NUM_PLAYERS))\n",
    "df_f = pd.read_csv(\"../output/Kuhn_poker/Parallel/DB_for_{}_NFSP_{}_DataCollect.csv\".format(RANDOM_SEED[2], NUM_PLAYERS))\n",
    "df_4 = df_d.merge(df_e).merge(df_f)\n",
    "df_4 = df_4.set_index(\"iteration\")\n",
    "df_4[\"ex_mean\"] = df_4.mean(axis=1)\n",
    "\n",
    "\n",
    "no_parallel = round(df_0[\"ex_mean\"].mean()* 1000 ,3)\n",
    "parallel4 = round(df_4[\"ex_mean\"].mean()* 1000 ,3)\n",
    "\n",
    "\n",
    "print(\"no parallel:\", no_parallel)\n",
    "print(\"parallel p4:\", parallel4)\n"
   ]
  },
  {
   "cell_type": "code",
   "execution_count": 6,
   "id": "3b3ab1c9",
   "metadata": {},
   "outputs": [
    {
     "name": "stdout",
     "output_type": "stream",
     "text": [
      "no parallel: 7.294\n",
      "parallel p4: 2.842\n"
     ]
    }
   ],
   "source": [
    "NUM_PLAYERS = 5\n",
    "RANDOM_SEED = [1, 10, 100]\n",
    "\n",
    "\n",
    "df_a = pd.read_csv(\"../output/Kuhn_poker/Parallel/DB_for_{}_NFSP_{}_episode.csv\".format(RANDOM_SEED[0], NUM_PLAYERS))\n",
    "df_b = pd.read_csv(\"../output/Kuhn_poker/Parallel/DB_for_{}_NFSP_{}_episode.csv\".format(RANDOM_SEED[1], NUM_PLAYERS))\n",
    "df_c = pd.read_csv(\"../output/Kuhn_poker/Parallel/DB_for_{}_NFSP_{}_episode.csv\".format(RANDOM_SEED[0], NUM_PLAYERS))\n",
    "df_0 = df_a.merge(df_b).merge(df_c)\n",
    "df_0 = df_0.set_index(\"iteration\")\n",
    "df_0[\"ex_mean\"] = df_0.mean(axis=1)\n",
    "\n",
    "\n",
    "df_d = pd.read_csv(\"../output/Kuhn_poker/Parallel/DB_for_{}_NFSP_{}_DataCollect.csv\".format(RANDOM_SEED[0], NUM_PLAYERS))\n",
    "df_e = pd.read_csv(\"../output/Kuhn_poker/Parallel/DB_for_{}_NFSP_{}_DataCollect.csv\".format(RANDOM_SEED[0], NUM_PLAYERS))\n",
    "df_f = pd.read_csv(\"../output/Kuhn_poker/Parallel/DB_for_{}_NFSP_{}_DataCollect.csv\".format(RANDOM_SEED[0], NUM_PLAYERS))\n",
    "df_4 = df_d.merge(df_e).merge(df_f)\n",
    "df_4 = df_4.set_index(\"iteration\")\n",
    "df_4[\"ex_mean\"] = df_4.mean(axis=1)\n",
    "\n",
    "\n",
    "no_parallel = round(df_0[\"ex_mean\"].mean()* 1000 ,3)\n",
    "parallel4 = round(df_4[\"ex_mean\"].mean()* 1000 ,3)\n",
    "\n",
    "\n",
    "print(\"no parallel:\", no_parallel)\n",
    "print(\"parallel p4:\", parallel4)\n"
   ]
  },
  {
   "attachments": {},
   "cell_type": "markdown",
   "id": "7bea6a6d",
   "metadata": {},
   "source": [
    "## Leduc Poker"
   ]
  },
  {
   "cell_type": "code",
   "execution_count": 7,
   "id": "0a159668",
   "metadata": {},
   "outputs": [
    {
     "name": "stdout",
     "output_type": "stream",
     "text": [
      "no parallel: 10.543\n",
      "parallel p4: 3.643\n"
     ]
    }
   ],
   "source": [
    "NUM_PLAYERS = 2\n",
    "RANDOM_SEED = [1, 10, 100]\n",
    "\n",
    "\n",
    "df_a = pd.read_csv(\"../output/Leduc_poker/Parallel/DB_for_{}_NFSP_{}_episode.csv\".format(RANDOM_SEED[0], NUM_PLAYERS))\n",
    "df_b = pd.read_csv(\"../output/Leduc_poker/Parallel/DB_for_{}_NFSP_{}_episode.csv\".format(RANDOM_SEED[1], NUM_PLAYERS))\n",
    "df_c = pd.read_csv(\"../output/Leduc_poker/Parallel/DB_for_{}_NFSP_{}_episode.csv\".format(RANDOM_SEED[2], NUM_PLAYERS))\n",
    "df_0 = df_a.merge(df_b).merge(df_c)\n",
    "df_0 = df_0.set_index(\"iteration\")\n",
    "df_0[\"ex_mean\"] = df_0.mean(axis=1)\n",
    "\n",
    "\n",
    "df_d = pd.read_csv(\"../output/Leduc_poker/Parallel/DB_for_{}_NFSP_{}_DataCollect.csv\".format(RANDOM_SEED[0], NUM_PLAYERS))\n",
    "df_e = pd.read_csv(\"../output/Leduc_poker/Parallel/DB_for_{}_NFSP_{}_DataCollect.csv\".format(RANDOM_SEED[1], NUM_PLAYERS))\n",
    "df_f = pd.read_csv(\"../output/Leduc_poker/Parallel/DB_for_{}_NFSP_{}_DataCollect.csv\".format(RANDOM_SEED[2], NUM_PLAYERS))\n",
    "df_4 = df_d.merge(df_e).merge(df_f)\n",
    "df_4 = df_4.set_index(\"iteration\")\n",
    "df_4[\"ex_mean\"] = df_4.mean(axis=1)\n",
    "\n",
    "\n",
    "no_parallel = round(df_0[\"ex_mean\"].mean()* 1000 ,3)\n",
    "parallel4 = round(df_4[\"ex_mean\"].mean()* 1000 ,3)\n",
    "\n",
    "\n",
    "print(\"no parallel:\", no_parallel)\n",
    "print(\"parallel p4:\", parallel4)"
   ]
  },
  {
   "cell_type": "code",
   "execution_count": null,
   "id": "c28b0778",
   "metadata": {},
   "outputs": [],
   "source": []
  }
 ],
 "metadata": {
  "kernelspec": {
   "display_name": "yskamto",
   "language": "python",
   "name": "python3"
  },
  "language_info": {
   "codemirror_mode": {
    "name": "ipython",
    "version": 3
   },
   "file_extension": ".py",
   "mimetype": "text/x-python",
   "name": "python",
   "nbconvert_exporter": "python",
   "pygments_lexer": "ipython3",
   "version": "3.8.10"
  },
  "vscode": {
   "interpreter": {
    "hash": "0a58123f7cbc156c01106435b2151dbf6b73dba624336c33456337124cae3110"
   }
  }
 },
 "nbformat": 4,
 "nbformat_minor": 5
}
