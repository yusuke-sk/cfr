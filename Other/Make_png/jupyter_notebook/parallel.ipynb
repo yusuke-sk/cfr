{
 "cells": [
  {
   "cell_type": "markdown",
   "id": "ef58426e",
   "metadata": {},
   "source": [
    "## ライブラリ"
   ]
  },
  {
   "cell_type": "code",
   "execution_count": 15,
   "id": "345787fa",
   "metadata": {},
   "outputs": [],
   "source": [
    "import pandas as pd \n",
    "import matplotlib.pyplot as plt"
   ]
  },
  {
   "cell_type": "markdown",
   "id": "102e678b",
   "metadata": {},
   "source": [
    "## データ読み込み"
   ]
  },
  {
   "cell_type": "code",
   "execution_count": 22,
   "id": "07fe88e1",
   "metadata": {},
   "outputs": [
    {
     "name": "stdout",
     "output_type": "stream",
     "text": [
      "no parallel: 4.737\n",
      "parallel p4: 2.226\n"
     ]
    }
   ],
   "source": [
    "NUM_PLAYERS = 2\n",
    "RANDOM_SEED = [1, 10, 100]\n",
    "\n",
    "\n",
    "df_a = pd.read_csv(\"../output/Kuhn_poker/Parallel/DB_for_{}_NFSP_{}_episode.csv\".format(RANDOM_SEED[0], NUM_PLAYERS))\n",
    "df_b = pd.read_csv(\"../output/Kuhn_poker/Parallel/DB_for_{}_NFSP_{}_episode.csv\".format(RANDOM_SEED[1], NUM_PLAYERS))\n",
    "df_c = pd.read_csv(\"../output/Kuhn_poker/Parallel/DB_for_{}_NFSP_{}_episode.csv\".format(RANDOM_SEED[2], NUM_PLAYERS))\n",
    "df_0 = df_a.merge(df_b).merge(df_c)\n",
    "df_0 = df_0.set_index(\"iteration\")\n",
    "df_0[\"ex_mean\"] = df_0.mean(axis=1)\n",
    "\n",
    "\n",
    "df_d = pd.read_csv(\"../output/Kuhn_poker/Parallel/DB_for_{}_NFSP_{}_DataCollect.csv\".format(RANDOM_SEED[0], NUM_PLAYERS))\n",
    "df_e = pd.read_csv(\"../output/Kuhn_poker/Parallel/DB_for_{}_NFSP_{}_DataCollect.csv\".format(RANDOM_SEED[1], NUM_PLAYERS))\n",
    "df_f = pd.read_csv(\"../output/Kuhn_poker/Parallel/DB_for_{}_NFSP_{}_DataCollect.csv\".format(RANDOM_SEED[2], NUM_PLAYERS))\n",
    "df_4 = df_d.merge(df_e).merge(df_f)\n",
    "df_4 = df_4.set_index(\"iteration\")\n",
    "df_4[\"ex_mean\"] = df_4.mean(axis=1)\n",
    "\n",
    "\n",
    "no_parallel = round(df_0[\"ex_mean\"].mean()* 1000 ,3)\n",
    "parallel4 = round(df_4[\"ex_mean\"].mean()* 1000 ,3)\n",
    "\n",
    "\n",
    "print(\"no parallel:\", no_parallel)\n",
    "print(\"parallel p4:\", parallel4)\n"
   ]
  },
  {
   "cell_type": "code",
   "execution_count": 23,
   "id": "6d9e5b2d",
   "metadata": {},
   "outputs": [
    {
     "name": "stdout",
     "output_type": "stream",
     "text": [
      "no parallel: 5.147\n",
      "parallel p4: 2.323\n"
     ]
    }
   ],
   "source": [
    "NUM_PLAYERS = 3\n",
    "RANDOM_SEED = [1, 10, 100]\n",
    "\n",
    "\n",
    "df_a = pd.read_csv(\"../output/Kuhn_poker/Parallel/DB_for_{}_NFSP_{}_episode.csv\".format(RANDOM_SEED[0], NUM_PLAYERS))\n",
    "df_b = pd.read_csv(\"../output/Kuhn_poker/Parallel/DB_for_{}_NFSP_{}_episode.csv\".format(RANDOM_SEED[1], NUM_PLAYERS))\n",
    "df_c = pd.read_csv(\"../output/Kuhn_poker/Parallel/DB_for_{}_NFSP_{}_episode.csv\".format(RANDOM_SEED[2], NUM_PLAYERS))\n",
    "df_0 = df_a.merge(df_b).merge(df_c)\n",
    "df_0 = df_0.set_index(\"iteration\")\n",
    "df_0[\"ex_mean\"] = df_0.mean(axis=1)\n",
    "\n",
    "\n",
    "df_d = pd.read_csv(\"../output/Kuhn_poker/Parallel/DB_for_{}_NFSP_{}_DataCollect.csv\".format(RANDOM_SEED[0], NUM_PLAYERS))\n",
    "df_e = pd.read_csv(\"../output/Kuhn_poker/Parallel/DB_for_{}_NFSP_{}_DataCollect.csv\".format(RANDOM_SEED[1], NUM_PLAYERS))\n",
    "df_f = pd.read_csv(\"../output/Kuhn_poker/Parallel/DB_for_{}_NFSP_{}_DataCollect.csv\".format(RANDOM_SEED[2], NUM_PLAYERS))\n",
    "df_4 = df_d.merge(df_e).merge(df_f)\n",
    "df_4 = df_4.set_index(\"iteration\")\n",
    "df_4[\"ex_mean\"] = df_4.mean(axis=1)\n",
    "\n",
    "\n",
    "no_parallel = round(df_0[\"ex_mean\"].mean()* 1000 ,3)\n",
    "parallel4 = round(df_4[\"ex_mean\"].mean()* 1000 ,3)\n",
    "\n",
    "\n",
    "print(\"no parallel:\", no_parallel)\n",
    "print(\"parallel p4:\", parallel4)\n"
   ]
  },
  {
   "cell_type": "code",
   "execution_count": 24,
   "id": "23db05e8",
   "metadata": {},
   "outputs": [
    {
     "name": "stdout",
     "output_type": "stream",
     "text": [
      "no parallel: 5.351\n",
      "parallel p4: 2.226\n"
     ]
    }
   ],
   "source": [
    "NUM_PLAYERS = 4\n",
    "RANDOM_SEED = [1, 10, 100]\n",
    "\n",
    "\n",
    "df_a = pd.read_csv(\"../output/Kuhn_poker/Parallel/DB_for_{}_NFSP_{}_episode.csv\".format(RANDOM_SEED[0], NUM_PLAYERS))\n",
    "df_b = pd.read_csv(\"../output/Kuhn_poker/Parallel/DB_for_{}_NFSP_{}_episode.csv\".format(RANDOM_SEED[1], NUM_PLAYERS))\n",
    "df_c = pd.read_csv(\"../output/Kuhn_poker/Parallel/DB_for_{}_NFSP_{}_episode.csv\".format(RANDOM_SEED[2], NUM_PLAYERS))\n",
    "df_0 = df_a.merge(df_b).merge(df_c)\n",
    "df_0 = df_0.set_index(\"iteration\")\n",
    "df_0[\"ex_mean\"] = df_0.mean(axis=1)\n",
    "\n",
    "\n",
    "df_d = pd.read_csv(\"../output/Kuhn_poker/Parallel/DB_for_{}_NFSP_{}_DataCollect.csv\".format(RANDOM_SEED[0], NUM_PLAYERS))\n",
    "df_e = pd.read_csv(\"../output/Kuhn_poker/Parallel/DB_for_{}_NFSP_{}_DataCollect.csv\".format(RANDOM_SEED[1], NUM_PLAYERS))\n",
    "df_f = pd.read_csv(\"../output/Kuhn_poker/Parallel/DB_for_{}_NFSP_{}_DataCollect.csv\".format(RANDOM_SEED[2], NUM_PLAYERS))\n",
    "df_4 = df_d.merge(df_e).merge(df_f)\n",
    "df_4 = df_4.set_index(\"iteration\")\n",
    "df_4[\"ex_mean\"] = df_4.mean(axis=1)\n",
    "\n",
    "\n",
    "no_parallel = round(df_0[\"ex_mean\"].mean()* 1000 ,3)\n",
    "parallel4 = round(df_4[\"ex_mean\"].mean()* 1000 ,3)\n",
    "\n",
    "\n",
    "print(\"no parallel:\", no_parallel)\n",
    "print(\"parallel p4:\", parallel4)\n"
   ]
  },
  {
   "cell_type": "code",
   "execution_count": 19,
   "id": "3b3ab1c9",
   "metadata": {},
   "outputs": [
    {
     "name": "stdout",
     "output_type": "stream",
     "text": [
      "no parallel: 7.294\n",
      "parallel p4: 2.842\n"
     ]
    }
   ],
   "source": [
    "NUM_PLAYERS = 5\n",
    "RANDOM_SEED = [1, 10, 100]\n",
    "\n",
    "\n",
    "df_a = pd.read_csv(\"../output/Kuhn_poker/Parallel/DB_for_{}_NFSP_{}_episode.csv\".format(RANDOM_SEED[0], NUM_PLAYERS))\n",
    "df_b = pd.read_csv(\"../output/Kuhn_poker/Parallel/DB_for_{}_NFSP_{}_episode.csv\".format(RANDOM_SEED[1], NUM_PLAYERS))\n",
    "df_c = pd.read_csv(\"../output/Kuhn_poker/Parallel/DB_for_{}_NFSP_{}_episode.csv\".format(RANDOM_SEED[0], NUM_PLAYERS))\n",
    "df_0 = df_a.merge(df_b).merge(df_c)\n",
    "df_0 = df_0.set_index(\"iteration\")\n",
    "df_0[\"ex_mean\"] = df_0.mean(axis=1)\n",
    "\n",
    "\n",
    "df_d = pd.read_csv(\"../output/Kuhn_poker/Parallel/DB_for_{}_NFSP_{}_DataCollect.csv\".format(RANDOM_SEED[0], NUM_PLAYERS))\n",
    "df_e = pd.read_csv(\"../output/Kuhn_poker/Parallel/DB_for_{}_NFSP_{}_DataCollect.csv\".format(RANDOM_SEED[0], NUM_PLAYERS))\n",
    "df_f = pd.read_csv(\"../output/Kuhn_poker/Parallel/DB_for_{}_NFSP_{}_DataCollect.csv\".format(RANDOM_SEED[0], NUM_PLAYERS))\n",
    "df_4 = df_d.merge(df_e).merge(df_f)\n",
    "df_4 = df_4.set_index(\"iteration\")\n",
    "df_4[\"ex_mean\"] = df_4.mean(axis=1)\n",
    "\n",
    "\n",
    "no_parallel = round(df_0[\"ex_mean\"].mean()* 1000 ,3)\n",
    "parallel4 = round(df_4[\"ex_mean\"].mean()* 1000 ,3)\n",
    "\n",
    "\n",
    "print(\"no parallel:\", no_parallel)\n",
    "print(\"parallel p4:\", parallel4)\n"
   ]
  },
  {
   "attachments": {},
   "cell_type": "markdown",
   "id": "7bea6a6d",
   "metadata": {},
   "source": [
    "## Leduc Poker"
   ]
  },
  {
   "cell_type": "code",
   "execution_count": 21,
   "id": "0a159668",
   "metadata": {},
   "outputs": [
    {
     "ename": "FileNotFoundError",
     "evalue": "[Errno 2] No such file or directory: '../output/Leduc_poker/Parallel/DB_for_1_NFSP_2_episode.csv'",
     "output_type": "error",
     "traceback": [
      "\u001b[0;31m---------------------------------------------------------------------------\u001b[0m",
      "\u001b[0;31mFileNotFoundError\u001b[0m                         Traceback (most recent call last)",
      "\u001b[0;32m<ipython-input-21-92d7d8eb87cd>\u001b[0m in \u001b[0;36m<module>\u001b[0;34m\u001b[0m\n\u001b[1;32m      3\u001b[0m \u001b[0;34m\u001b[0m\u001b[0m\n\u001b[1;32m      4\u001b[0m \u001b[0;34m\u001b[0m\u001b[0m\n\u001b[0;32m----> 5\u001b[0;31m \u001b[0mdf_a\u001b[0m \u001b[0;34m=\u001b[0m \u001b[0mpd\u001b[0m\u001b[0;34m.\u001b[0m\u001b[0mread_csv\u001b[0m\u001b[0;34m(\u001b[0m\u001b[0;34m\"../output/Leduc_poker/Parallel/DB_for_{}_NFSP_{}_episode.csv\"\u001b[0m\u001b[0;34m.\u001b[0m\u001b[0mformat\u001b[0m\u001b[0;34m(\u001b[0m\u001b[0mRANDOM_SEED\u001b[0m\u001b[0;34m[\u001b[0m\u001b[0;36m0\u001b[0m\u001b[0;34m]\u001b[0m\u001b[0;34m,\u001b[0m \u001b[0mNUM_PLAYERS\u001b[0m\u001b[0;34m)\u001b[0m\u001b[0;34m)\u001b[0m\u001b[0;34m\u001b[0m\u001b[0;34m\u001b[0m\u001b[0m\n\u001b[0m\u001b[1;32m      6\u001b[0m \u001b[0mdf_b\u001b[0m \u001b[0;34m=\u001b[0m \u001b[0mpd\u001b[0m\u001b[0;34m.\u001b[0m\u001b[0mread_csv\u001b[0m\u001b[0;34m(\u001b[0m\u001b[0;34m\"../output/Leduc_poker/Parallel/DB_for_{}_NFSP_{}_episode.csv\"\u001b[0m\u001b[0;34m.\u001b[0m\u001b[0mformat\u001b[0m\u001b[0;34m(\u001b[0m\u001b[0mRANDOM_SEED\u001b[0m\u001b[0;34m[\u001b[0m\u001b[0;36m0\u001b[0m\u001b[0;34m]\u001b[0m\u001b[0;34m,\u001b[0m \u001b[0mNUM_PLAYERS\u001b[0m\u001b[0;34m)\u001b[0m\u001b[0;34m)\u001b[0m\u001b[0;34m\u001b[0m\u001b[0;34m\u001b[0m\u001b[0m\n\u001b[1;32m      7\u001b[0m \u001b[0mdf_c\u001b[0m \u001b[0;34m=\u001b[0m \u001b[0mpd\u001b[0m\u001b[0;34m.\u001b[0m\u001b[0mread_csv\u001b[0m\u001b[0;34m(\u001b[0m\u001b[0;34m\"../output/Leduc_poker/Parallel/DB_for_{}_NFSP_{}_episode.csv\"\u001b[0m\u001b[0;34m.\u001b[0m\u001b[0mformat\u001b[0m\u001b[0;34m(\u001b[0m\u001b[0mRANDOM_SEED\u001b[0m\u001b[0;34m[\u001b[0m\u001b[0;36m0\u001b[0m\u001b[0;34m]\u001b[0m\u001b[0;34m,\u001b[0m \u001b[0mNUM_PLAYERS\u001b[0m\u001b[0;34m)\u001b[0m\u001b[0;34m)\u001b[0m\u001b[0;34m\u001b[0m\u001b[0;34m\u001b[0m\u001b[0m\n",
      "\u001b[0;32m~/miniforge3/envs/yskamto/lib/python3.8/site-packages/pandas/io/parsers.py\u001b[0m in \u001b[0;36mread_csv\u001b[0;34m(filepath_or_buffer, sep, delimiter, header, names, index_col, usecols, squeeze, prefix, mangle_dupe_cols, dtype, engine, converters, true_values, false_values, skipinitialspace, skiprows, skipfooter, nrows, na_values, keep_default_na, na_filter, verbose, skip_blank_lines, parse_dates, infer_datetime_format, keep_date_col, date_parser, dayfirst, cache_dates, iterator, chunksize, compression, thousands, decimal, lineterminator, quotechar, quoting, doublequote, escapechar, comment, encoding, dialect, error_bad_lines, warn_bad_lines, delim_whitespace, low_memory, memory_map, float_precision, storage_options)\u001b[0m\n\u001b[1;32m    608\u001b[0m     \u001b[0mkwds\u001b[0m\u001b[0;34m.\u001b[0m\u001b[0mupdate\u001b[0m\u001b[0;34m(\u001b[0m\u001b[0mkwds_defaults\u001b[0m\u001b[0;34m)\u001b[0m\u001b[0;34m\u001b[0m\u001b[0;34m\u001b[0m\u001b[0m\n\u001b[1;32m    609\u001b[0m \u001b[0;34m\u001b[0m\u001b[0m\n\u001b[0;32m--> 610\u001b[0;31m     \u001b[0;32mreturn\u001b[0m \u001b[0m_read\u001b[0m\u001b[0;34m(\u001b[0m\u001b[0mfilepath_or_buffer\u001b[0m\u001b[0;34m,\u001b[0m \u001b[0mkwds\u001b[0m\u001b[0;34m)\u001b[0m\u001b[0;34m\u001b[0m\u001b[0;34m\u001b[0m\u001b[0m\n\u001b[0m\u001b[1;32m    611\u001b[0m \u001b[0;34m\u001b[0m\u001b[0m\n\u001b[1;32m    612\u001b[0m \u001b[0;34m\u001b[0m\u001b[0m\n",
      "\u001b[0;32m~/miniforge3/envs/yskamto/lib/python3.8/site-packages/pandas/io/parsers.py\u001b[0m in \u001b[0;36m_read\u001b[0;34m(filepath_or_buffer, kwds)\u001b[0m\n\u001b[1;32m    460\u001b[0m \u001b[0;34m\u001b[0m\u001b[0m\n\u001b[1;32m    461\u001b[0m     \u001b[0;31m# Create the parser.\u001b[0m\u001b[0;34m\u001b[0m\u001b[0;34m\u001b[0m\u001b[0;34m\u001b[0m\u001b[0m\n\u001b[0;32m--> 462\u001b[0;31m     \u001b[0mparser\u001b[0m \u001b[0;34m=\u001b[0m \u001b[0mTextFileReader\u001b[0m\u001b[0;34m(\u001b[0m\u001b[0mfilepath_or_buffer\u001b[0m\u001b[0;34m,\u001b[0m \u001b[0;34m**\u001b[0m\u001b[0mkwds\u001b[0m\u001b[0;34m)\u001b[0m\u001b[0;34m\u001b[0m\u001b[0;34m\u001b[0m\u001b[0m\n\u001b[0m\u001b[1;32m    463\u001b[0m \u001b[0;34m\u001b[0m\u001b[0m\n\u001b[1;32m    464\u001b[0m     \u001b[0;32mif\u001b[0m \u001b[0mchunksize\u001b[0m \u001b[0;32mor\u001b[0m \u001b[0miterator\u001b[0m\u001b[0;34m:\u001b[0m\u001b[0;34m\u001b[0m\u001b[0;34m\u001b[0m\u001b[0m\n",
      "\u001b[0;32m~/miniforge3/envs/yskamto/lib/python3.8/site-packages/pandas/io/parsers.py\u001b[0m in \u001b[0;36m__init__\u001b[0;34m(self, f, engine, **kwds)\u001b[0m\n\u001b[1;32m    817\u001b[0m             \u001b[0mself\u001b[0m\u001b[0;34m.\u001b[0m\u001b[0moptions\u001b[0m\u001b[0;34m[\u001b[0m\u001b[0;34m\"has_index_names\"\u001b[0m\u001b[0;34m]\u001b[0m \u001b[0;34m=\u001b[0m \u001b[0mkwds\u001b[0m\u001b[0;34m[\u001b[0m\u001b[0;34m\"has_index_names\"\u001b[0m\u001b[0;34m]\u001b[0m\u001b[0;34m\u001b[0m\u001b[0;34m\u001b[0m\u001b[0m\n\u001b[1;32m    818\u001b[0m \u001b[0;34m\u001b[0m\u001b[0m\n\u001b[0;32m--> 819\u001b[0;31m         \u001b[0mself\u001b[0m\u001b[0;34m.\u001b[0m\u001b[0m_engine\u001b[0m \u001b[0;34m=\u001b[0m \u001b[0mself\u001b[0m\u001b[0;34m.\u001b[0m\u001b[0m_make_engine\u001b[0m\u001b[0;34m(\u001b[0m\u001b[0mself\u001b[0m\u001b[0;34m.\u001b[0m\u001b[0mengine\u001b[0m\u001b[0;34m)\u001b[0m\u001b[0;34m\u001b[0m\u001b[0;34m\u001b[0m\u001b[0m\n\u001b[0m\u001b[1;32m    820\u001b[0m \u001b[0;34m\u001b[0m\u001b[0m\n\u001b[1;32m    821\u001b[0m     \u001b[0;32mdef\u001b[0m \u001b[0mclose\u001b[0m\u001b[0;34m(\u001b[0m\u001b[0mself\u001b[0m\u001b[0;34m)\u001b[0m\u001b[0;34m:\u001b[0m\u001b[0;34m\u001b[0m\u001b[0;34m\u001b[0m\u001b[0m\n",
      "\u001b[0;32m~/miniforge3/envs/yskamto/lib/python3.8/site-packages/pandas/io/parsers.py\u001b[0m in \u001b[0;36m_make_engine\u001b[0;34m(self, engine)\u001b[0m\n\u001b[1;32m   1048\u001b[0m             )\n\u001b[1;32m   1049\u001b[0m         \u001b[0;31m# error: Too many arguments for \"ParserBase\"\u001b[0m\u001b[0;34m\u001b[0m\u001b[0;34m\u001b[0m\u001b[0;34m\u001b[0m\u001b[0m\n\u001b[0;32m-> 1050\u001b[0;31m         \u001b[0;32mreturn\u001b[0m \u001b[0mmapping\u001b[0m\u001b[0;34m[\u001b[0m\u001b[0mengine\u001b[0m\u001b[0;34m]\u001b[0m\u001b[0;34m(\u001b[0m\u001b[0mself\u001b[0m\u001b[0;34m.\u001b[0m\u001b[0mf\u001b[0m\u001b[0;34m,\u001b[0m \u001b[0;34m**\u001b[0m\u001b[0mself\u001b[0m\u001b[0;34m.\u001b[0m\u001b[0moptions\u001b[0m\u001b[0;34m)\u001b[0m  \u001b[0;31m# type: ignore[call-arg]\u001b[0m\u001b[0;34m\u001b[0m\u001b[0;34m\u001b[0m\u001b[0m\n\u001b[0m\u001b[1;32m   1051\u001b[0m \u001b[0;34m\u001b[0m\u001b[0m\n\u001b[1;32m   1052\u001b[0m     \u001b[0;32mdef\u001b[0m \u001b[0m_failover_to_python\u001b[0m\u001b[0;34m(\u001b[0m\u001b[0mself\u001b[0m\u001b[0;34m)\u001b[0m\u001b[0;34m:\u001b[0m\u001b[0;34m\u001b[0m\u001b[0;34m\u001b[0m\u001b[0m\n",
      "\u001b[0;32m~/miniforge3/envs/yskamto/lib/python3.8/site-packages/pandas/io/parsers.py\u001b[0m in \u001b[0;36m__init__\u001b[0;34m(self, src, **kwds)\u001b[0m\n\u001b[1;32m   1865\u001b[0m \u001b[0;34m\u001b[0m\u001b[0m\n\u001b[1;32m   1866\u001b[0m         \u001b[0;31m# open handles\u001b[0m\u001b[0;34m\u001b[0m\u001b[0;34m\u001b[0m\u001b[0;34m\u001b[0m\u001b[0m\n\u001b[0;32m-> 1867\u001b[0;31m         \u001b[0mself\u001b[0m\u001b[0;34m.\u001b[0m\u001b[0m_open_handles\u001b[0m\u001b[0;34m(\u001b[0m\u001b[0msrc\u001b[0m\u001b[0;34m,\u001b[0m \u001b[0mkwds\u001b[0m\u001b[0;34m)\u001b[0m\u001b[0;34m\u001b[0m\u001b[0;34m\u001b[0m\u001b[0m\n\u001b[0m\u001b[1;32m   1868\u001b[0m         \u001b[0;32massert\u001b[0m \u001b[0mself\u001b[0m\u001b[0;34m.\u001b[0m\u001b[0mhandles\u001b[0m \u001b[0;32mis\u001b[0m \u001b[0;32mnot\u001b[0m \u001b[0;32mNone\u001b[0m\u001b[0;34m\u001b[0m\u001b[0;34m\u001b[0m\u001b[0m\n\u001b[1;32m   1869\u001b[0m         \u001b[0;32mfor\u001b[0m \u001b[0mkey\u001b[0m \u001b[0;32min\u001b[0m \u001b[0;34m(\u001b[0m\u001b[0;34m\"storage_options\"\u001b[0m\u001b[0;34m,\u001b[0m \u001b[0;34m\"encoding\"\u001b[0m\u001b[0;34m,\u001b[0m \u001b[0;34m\"memory_map\"\u001b[0m\u001b[0;34m,\u001b[0m \u001b[0;34m\"compression\"\u001b[0m\u001b[0;34m)\u001b[0m\u001b[0;34m:\u001b[0m\u001b[0;34m\u001b[0m\u001b[0;34m\u001b[0m\u001b[0m\n",
      "\u001b[0;32m~/miniforge3/envs/yskamto/lib/python3.8/site-packages/pandas/io/parsers.py\u001b[0m in \u001b[0;36m_open_handles\u001b[0;34m(self, src, kwds)\u001b[0m\n\u001b[1;32m   1360\u001b[0m         \u001b[0mLet\u001b[0m \u001b[0mthe\u001b[0m \u001b[0mreaders\u001b[0m \u001b[0mopen\u001b[0m \u001b[0mIOHanldes\u001b[0m \u001b[0mafter\u001b[0m \u001b[0mthey\u001b[0m \u001b[0mare\u001b[0m \u001b[0mdone\u001b[0m \u001b[0;32mwith\u001b[0m \u001b[0mtheir\u001b[0m \u001b[0mpotential\u001b[0m \u001b[0mraises\u001b[0m\u001b[0;34m.\u001b[0m\u001b[0;34m\u001b[0m\u001b[0;34m\u001b[0m\u001b[0m\n\u001b[1;32m   1361\u001b[0m         \"\"\"\n\u001b[0;32m-> 1362\u001b[0;31m         self.handles = get_handle(\n\u001b[0m\u001b[1;32m   1363\u001b[0m             \u001b[0msrc\u001b[0m\u001b[0;34m,\u001b[0m\u001b[0;34m\u001b[0m\u001b[0;34m\u001b[0m\u001b[0m\n\u001b[1;32m   1364\u001b[0m             \u001b[0;34m\"r\"\u001b[0m\u001b[0;34m,\u001b[0m\u001b[0;34m\u001b[0m\u001b[0;34m\u001b[0m\u001b[0m\n",
      "\u001b[0;32m~/miniforge3/envs/yskamto/lib/python3.8/site-packages/pandas/io/common.py\u001b[0m in \u001b[0;36mget_handle\u001b[0;34m(path_or_buf, mode, encoding, compression, memory_map, is_text, errors, storage_options)\u001b[0m\n\u001b[1;32m    640\u001b[0m                 \u001b[0merrors\u001b[0m \u001b[0;34m=\u001b[0m \u001b[0;34m\"replace\"\u001b[0m\u001b[0;34m\u001b[0m\u001b[0;34m\u001b[0m\u001b[0m\n\u001b[1;32m    641\u001b[0m             \u001b[0;31m# Encoding\u001b[0m\u001b[0;34m\u001b[0m\u001b[0;34m\u001b[0m\u001b[0;34m\u001b[0m\u001b[0m\n\u001b[0;32m--> 642\u001b[0;31m             handle = open(\n\u001b[0m\u001b[1;32m    643\u001b[0m                 \u001b[0mhandle\u001b[0m\u001b[0;34m,\u001b[0m\u001b[0;34m\u001b[0m\u001b[0;34m\u001b[0m\u001b[0m\n\u001b[1;32m    644\u001b[0m                 \u001b[0mioargs\u001b[0m\u001b[0;34m.\u001b[0m\u001b[0mmode\u001b[0m\u001b[0;34m,\u001b[0m\u001b[0;34m\u001b[0m\u001b[0;34m\u001b[0m\u001b[0m\n",
      "\u001b[0;31mFileNotFoundError\u001b[0m: [Errno 2] No such file or directory: '../output/Leduc_poker/Parallel/DB_for_1_NFSP_2_episode.csv'"
     ]
    }
   ],
   "source": [
    "NUM_PLAYERS = 2\n",
    "RANDOM_SEED = [1, 10, 100]\n",
    "\n",
    "\n",
    "df_a = pd.read_csv(\"../output/Leduc_poker/Parallel/DB_for_{}_NFSP_{}_episode.csv\".format(RANDOM_SEED[0], NUM_PLAYERS))\n",
    "df_b = pd.read_csv(\"../output/Leduc_poker/Parallel/DB_for_{}_NFSP_{}_episode.csv\".format(RANDOM_SEED[1], NUM_PLAYERS))\n",
    "df_c = pd.read_csv(\"../output/Leduc_poker/Parallel/DB_for_{}_NFSP_{}_episode.csv\".format(RANDOM_SEED[2], NUM_PLAYERS))\n",
    "df_0 = df_a.merge(df_b).merge(df_c)\n",
    "df_0 = df_0.set_index(\"iteration\")\n",
    "df_0[\"ex_mean\"] = df_0.mean(axis=1)\n",
    "\n",
    "\n",
    "df_d = pd.read_csv(\"../output/Leduc_poker/Parallel/DB_for_{}_NFSP_{}_DataCollect.csv\".format(RANDOM_SEED[0], NUM_PLAYERS))\n",
    "df_e = pd.read_csv(\"../output/Leduc_poker/Parallel/DB_for_{}_NFSP_{}_DataCollect.csv\".format(RANDOM_SEED[1], NUM_PLAYERS))\n",
    "df_f = pd.read_csv(\"../output/Leduc_poker/Parallel/DB_for_{}_NFSP_{}_DataCollect.csv\".format(RANDOM_SEED[2], NUM_PLAYERS))\n",
    "df_4 = df_d.merge(df_e).merge(df_f)\n",
    "df_4 = df_4.set_index(\"iteration\")\n",
    "df_4[\"ex_mean\"] = df_4.mean(axis=1)\n",
    "\n",
    "\n",
    "no_parallel = round(df_0[\"ex_mean\"].mean()* 1000 ,3)\n",
    "parallel4 = round(df_4[\"ex_mean\"].mean()* 1000 ,3)\n",
    "\n",
    "\n",
    "print(\"no parallel:\", no_parallel)\n",
    "print(\"parallel p4:\", parallel4)"
   ]
  },
  {
   "cell_type": "code",
   "execution_count": null,
   "id": "c28b0778",
   "metadata": {},
   "outputs": [],
   "source": []
  }
 ],
 "metadata": {
  "kernelspec": {
   "display_name": "yskamto",
   "language": "python",
   "name": "python3"
  },
  "language_info": {
   "codemirror_mode": {
    "name": "ipython",
    "version": 3
   },
   "file_extension": ".py",
   "mimetype": "text/x-python",
   "name": "python",
   "nbconvert_exporter": "python",
   "pygments_lexer": "ipython3",
   "version": "3.8.10 | packaged by conda-forge | (default, May 11 2021, 06:27:18) \n[Clang 11.1.0 ]"
  },
  "vscode": {
   "interpreter": {
    "hash": "0a58123f7cbc156c01106435b2151dbf6b73dba624336c33456337124cae3110"
   }
  }
 },
 "nbformat": 4,
 "nbformat_minor": 5
}
