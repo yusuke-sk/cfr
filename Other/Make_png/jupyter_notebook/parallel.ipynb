{
 "cells": [
  {
   "cell_type": "markdown",
   "id": "ef58426e",
   "metadata": {},
   "source": [
    "## ライブラリ"
   ]
  },
  {
   "cell_type": "code",
   "execution_count": 36,
   "id": "345787fa",
   "metadata": {},
   "outputs": [],
   "source": [
    "import pandas as pd \n",
    "import matplotlib.pyplot as plt"
   ]
  },
  {
   "cell_type": "markdown",
   "id": "102e678b",
   "metadata": {},
   "source": [
    "## データ読み込み"
   ]
  },
  {
   "cell_type": "code",
   "execution_count": 37,
   "id": "07fe88e1",
   "metadata": {},
   "outputs": [
    {
     "name": "stdout",
     "output_type": "stream",
     "text": [
      "no parallel: 6.179\n",
      "parallel p4: 2.19\n"
     ]
    }
   ],
   "source": [
    "NUM_PLAYERS = 2\n",
    "\n",
    "df_0 = pd.read_csv(\"../output/Kuhn_poker/Parallel/DB_for_NFSP_{}_episode.csv\".format(NUM_PLAYERS))\n",
    "df_4 = pd.read_csv(\"../output/Kuhn_poker/Parallel/DB_for_NFSP_{}_DataCollect_4.csv\".format(NUM_PLAYERS))\n",
    "\n",
    "\n",
    "\n",
    "no_parallel = round(df_0[\"batch_episode_time_for_2_42\"].mean()* 1000 ,3)\n",
    "parallel4 = round(df_4[\"parallel_batch_episode_time_for_2_42\"].mean()* 1000 ,3)\n",
    "\n",
    "\n",
    "print(\"no parallel:\", no_parallel)\n",
    "print(\"parallel p4:\", parallel4)\n"
   ]
  },
  {
   "cell_type": "code",
   "execution_count": 38,
   "id": "6d9e5b2d",
   "metadata": {},
   "outputs": [
    {
     "name": "stdout",
     "output_type": "stream",
     "text": [
      "no parallel: 6.382\n",
      "parallel p4: 2.377\n"
     ]
    }
   ],
   "source": [
    "NUM_PLAYERS = 3\n",
    "\n",
    "df_0 = pd.read_csv(\"../output/Kuhn_poker/Parallel/DB_for_NFSP_{}_episode.csv\".format(NUM_PLAYERS))\n",
    "df_4 = pd.read_csv(\"../output/Kuhn_poker/Parallel/DB_for_NFSP_{}_DataCollect_4.csv\".format(NUM_PLAYERS))\n",
    "\n",
    "\n",
    "\n",
    "no_parallel = round(df_0[\"batch_episode_time_for_3_42\"].mean()* 1000 ,3)\n",
    "parallel4 = round(df_4[\"parallel_batch_episode_time_for_3_42\"].mean()* 1000 ,3)\n",
    "\n",
    "\n",
    "print(\"no parallel:\", no_parallel)\n",
    "print(\"parallel p4:\", parallel4)"
   ]
  },
  {
   "cell_type": "code",
   "execution_count": 39,
   "id": "23db05e8",
   "metadata": {},
   "outputs": [
    {
     "name": "stdout",
     "output_type": "stream",
     "text": [
      "no parallel: 6.17\n",
      "parallel p4: 2.281\n"
     ]
    }
   ],
   "source": [
    "NUM_PLAYERS = 4\n",
    "\n",
    "df_0 = pd.read_csv(\"../output/Kuhn_poker/Parallel/DB_for_NFSP_{}_episode.csv\".format(NUM_PLAYERS))\n",
    "df_4 = pd.read_csv(\"../output/Kuhn_poker/Parallel/DB_for_NFSP_{}_DataCollect_4.csv\".format(NUM_PLAYERS))\n",
    "\n",
    "\n",
    "\n",
    "no_parallel = round(df_0[\"batch_episode_time_for_4_42\"].mean()* 1000 ,3)\n",
    "parallel4 = round(df_4[\"parallel_batch_episode_time_for_4_42\"].mean()* 1000 ,3)\n",
    "\n",
    "\n",
    "print(\"no parallel:\", no_parallel)\n",
    "print(\"parallel p4:\", parallel4)"
   ]
  },
  {
   "cell_type": "code",
   "execution_count": 40,
   "id": "3b3ab1c9",
   "metadata": {},
   "outputs": [
    {
     "name": "stdout",
     "output_type": "stream",
     "text": [
      "no parallel: 7.869\n",
      "parallel p4: 2.809\n"
     ]
    }
   ],
   "source": [
    "NUM_PLAYERS = 5\n",
    "\n",
    "df_0 = pd.read_csv(\"../output/Kuhn_poker/Parallel/DB_for_NFSP_{}_episode.csv\".format(NUM_PLAYERS))\n",
    "df_4 = pd.read_csv(\"../output/Kuhn_poker/Parallel/DB_for_NFSP_{}_DataCollect_4.csv\".format(NUM_PLAYERS))\n",
    "\n",
    "\n",
    "\n",
    "no_parallel = round(df_0[\"batch_episode_time_for_5_42\"].mean()* 1000 ,3)\n",
    "parallel4 = round(df_4[\"parallel_batch_episode_time_for_5_42\"].mean()* 1000 ,3)\n",
    "\n",
    "\n",
    "print(\"no parallel:\", no_parallel)\n",
    "print(\"parallel p4:\", parallel4)"
   ]
  },
  {
   "attachments": {},
   "cell_type": "markdown",
   "id": "7bea6a6d",
   "metadata": {},
   "source": [
    "## Leduc Poker"
   ]
  },
  {
   "cell_type": "code",
   "execution_count": 43,
   "id": "0a159668",
   "metadata": {},
   "outputs": [
    {
     "name": "stdout",
     "output_type": "stream",
     "text": [
      "no parallel: 10.962\n",
      "parallel p4: 4.027\n"
     ]
    }
   ],
   "source": [
    "NUM_PLAYERS = 2\n",
    "\n",
    "df_0 = pd.read_csv(\"../output/Leduc_poker/Parallel/DB_for_NFSP_{}_episode.csv\".format(NUM_PLAYERS))\n",
    "df_4 = pd.read_csv(\"../output/Leduc_poker/Parallel/DB_for_NFSP_{}_DataCollect.csv\".format(NUM_PLAYERS))\n",
    "\n",
    "\n",
    "\n",
    "no_parallel = round(df_0[\"batch_episode_time_for_2_42\"].mean()* 1000 ,3)\n",
    "parallel4 = round(df_4[\"parallel_batch_episode_time_for_2_42\"].mean()* 1000 ,3)\n",
    "\n",
    "\n",
    "print(\"no parallel:\", no_parallel)\n",
    "print(\"parallel p4:\", parallel4)"
   ]
  }
 ],
 "metadata": {
  "kernelspec": {
   "display_name": "yskamto",
   "language": "python",
   "name": "python3"
  },
  "language_info": {
   "codemirror_mode": {
    "name": "ipython",
    "version": 3
   },
   "file_extension": ".py",
   "mimetype": "text/x-python",
   "name": "python",
   "nbconvert_exporter": "python",
   "pygments_lexer": "ipython3",
   "version": "3.8.10"
  },
  "vscode": {
   "interpreter": {
    "hash": "0a58123f7cbc156c01106435b2151dbf6b73dba624336c33456337124cae3110"
   }
  }
 },
 "nbformat": 4,
 "nbformat_minor": 5
}
